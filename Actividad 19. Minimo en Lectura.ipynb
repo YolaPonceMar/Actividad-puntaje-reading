{
 "cells": [
  {
   "cell_type": "markdown",
   "id": "cd52f5dd",
   "metadata": {},
   "source": [
    "## Actividad Min en lectura\n"
   ]
  },
  {
   "cell_type": "code",
   "execution_count": 2,
   "id": "7f7921a1",
   "metadata": {},
   "outputs": [],
   "source": [
    "import pandas as pd\n",
    "import numpy as np"
   ]
  },
  {
   "cell_type": "code",
   "execution_count": 3,
   "id": "39dd4c20",
   "metadata": {},
   "outputs": [],
   "source": [
    "import matplotlib as plt"
   ]
  },
  {
   "cell_type": "code",
   "execution_count": 4,
   "id": "b7eb14fc",
   "metadata": {},
   "outputs": [
    {
     "name": "stdout",
     "output_type": "stream",
     "text": [
      "Requirement already satisfied: pandas in c:\\users\\yolanda.ponce\\anaconda3\\lib\\site-packages (1.4.2)\n",
      "Requirement already satisfied: python-dateutil>=2.8.1 in c:\\users\\yolanda.ponce\\anaconda3\\lib\\site-packages (from pandas) (2.8.2)\n",
      "Requirement already satisfied: numpy>=1.18.5 in c:\\users\\yolanda.ponce\\anaconda3\\lib\\site-packages (from pandas) (1.21.5)\n",
      "Requirement already satisfied: pytz>=2020.1 in c:\\users\\yolanda.ponce\\anaconda3\\lib\\site-packages (from pandas) (2021.3)\n",
      "Requirement already satisfied: six>=1.5 in c:\\users\\yolanda.ponce\\anaconda3\\lib\\site-packages (from python-dateutil>=2.8.1->pandas) (1.16.0)\n"
     ]
    }
   ],
   "source": [
    "!pip install pandas"
   ]
  },
  {
   "cell_type": "code",
   "execution_count": 9,
   "id": "acb11887",
   "metadata": {},
   "outputs": [],
   "source": [
    "data_students=pd.read_csv(\"C:\\\\Users\\\\yolanda.ponce\\\\OneDrive - Xignux Corp\\\\Documents\\\\Cursos\\\\Curso_Python\\\\Archivos csv\\\\clean_students_complete.csv\")"
   ]
  },
  {
   "cell_type": "code",
   "execution_count": 10,
   "id": "863442cf",
   "metadata": {},
   "outputs": [
    {
     "data": {
      "text/html": [
       "<div>\n",
       "<style scoped>\n",
       "    .dataframe tbody tr th:only-of-type {\n",
       "        vertical-align: middle;\n",
       "    }\n",
       "\n",
       "    .dataframe tbody tr th {\n",
       "        vertical-align: top;\n",
       "    }\n",
       "\n",
       "    .dataframe thead th {\n",
       "        text-align: right;\n",
       "    }\n",
       "</style>\n",
       "<table border=\"1\" class=\"dataframe\">\n",
       "  <thead>\n",
       "    <tr style=\"text-align: right;\">\n",
       "      <th></th>\n",
       "      <th>Unnamed: 0</th>\n",
       "      <th>Student ID</th>\n",
       "      <th>student_name</th>\n",
       "      <th>gender</th>\n",
       "      <th>grade</th>\n",
       "      <th>school_name</th>\n",
       "      <th>reading_score</th>\n",
       "      <th>math_score</th>\n",
       "    </tr>\n",
       "  </thead>\n",
       "  <tbody>\n",
       "    <tr>\n",
       "      <th>0</th>\n",
       "      <td>0</td>\n",
       "      <td>0</td>\n",
       "      <td>Paul Bradley</td>\n",
       "      <td>M</td>\n",
       "      <td>9th</td>\n",
       "      <td>Huang High School</td>\n",
       "      <td>66</td>\n",
       "      <td>79</td>\n",
       "    </tr>\n",
       "    <tr>\n",
       "      <th>1</th>\n",
       "      <td>1</td>\n",
       "      <td>1</td>\n",
       "      <td>Victor Smith</td>\n",
       "      <td>M</td>\n",
       "      <td>12th</td>\n",
       "      <td>Huang High School</td>\n",
       "      <td>94</td>\n",
       "      <td>61</td>\n",
       "    </tr>\n",
       "    <tr>\n",
       "      <th>2</th>\n",
       "      <td>2</td>\n",
       "      <td>2</td>\n",
       "      <td>Kevin Rodriguez</td>\n",
       "      <td>M</td>\n",
       "      <td>12th</td>\n",
       "      <td>Huang High School</td>\n",
       "      <td>90</td>\n",
       "      <td>60</td>\n",
       "    </tr>\n",
       "    <tr>\n",
       "      <th>3</th>\n",
       "      <td>3</td>\n",
       "      <td>3</td>\n",
       "      <td>Richard Scott</td>\n",
       "      <td>M</td>\n",
       "      <td>12th</td>\n",
       "      <td>Huang High School</td>\n",
       "      <td>67</td>\n",
       "      <td>58</td>\n",
       "    </tr>\n",
       "    <tr>\n",
       "      <th>4</th>\n",
       "      <td>4</td>\n",
       "      <td>4</td>\n",
       "      <td>Bonnie Ray</td>\n",
       "      <td>F</td>\n",
       "      <td>9th</td>\n",
       "      <td>Huang High School</td>\n",
       "      <td>97</td>\n",
       "      <td>84</td>\n",
       "    </tr>\n",
       "  </tbody>\n",
       "</table>\n",
       "</div>"
      ],
      "text/plain": [
       "   Unnamed: 0  Student ID     student_name gender grade        school_name  \\\n",
       "0           0           0     Paul Bradley      M   9th  Huang High School   \n",
       "1           1           1     Victor Smith      M  12th  Huang High School   \n",
       "2           2           2  Kevin Rodriguez      M  12th  Huang High School   \n",
       "3           3           3    Richard Scott      M  12th  Huang High School   \n",
       "4           4           4       Bonnie Ray      F   9th  Huang High School   \n",
       "\n",
       "   reading_score  math_score  \n",
       "0             66          79  \n",
       "1             94          61  \n",
       "2             90          60  \n",
       "3             67          58  \n",
       "4             97          84  "
      ]
     },
     "execution_count": 10,
     "metadata": {},
     "output_type": "execute_result"
    }
   ],
   "source": [
    "data_students.head()"
   ]
  },
  {
   "cell_type": "code",
   "execution_count": 17,
   "id": "a1650e5a",
   "metadata": {},
   "outputs": [],
   "source": [
    "menor_puntuacion=data_students[data_students[\"reading_score\"]==data_students[\"reading_score\"].min()]"
   ]
  },
  {
   "cell_type": "code",
   "execution_count": 18,
   "id": "9ff9739a",
   "metadata": {},
   "outputs": [],
   "source": [
    "scname_gender=menor_puntuacion[[\"school_name\",\"gender\"]]"
   ]
  },
  {
   "cell_type": "code",
   "execution_count": 20,
   "id": "0c205b89",
   "metadata": {},
   "outputs": [],
   "source": [
    "dummies_genero=pd.get_dummies(scname_gender[[\"gender\"]])"
   ]
  },
  {
   "cell_type": "code",
   "execution_count": null,
   "id": "2b246380",
   "metadata": {},
   "outputs": [],
   "source": []
  },
  {
   "cell_type": "code",
   "execution_count": null,
   "id": "9f2048fd",
   "metadata": {},
   "outputs": [],
   "source": []
  },
  {
   "cell_type": "markdown",
   "id": "0fbf95cf",
   "metadata": {},
   "source": [
    "## Para ver la media "
   ]
  },
  {
   "cell_type": "code",
   "execution_count": 22,
   "id": "d791d199",
   "metadata": {},
   "outputs": [
    {
     "data": {
      "text/plain": [
       "(81.87784018381414, 78.98537145774827)"
      ]
     },
     "execution_count": 22,
     "metadata": {},
     "output_type": "execute_result"
    }
   ],
   "source": [
    "data_students [\"reading_score\"].mean(), data_students[\"math_score\"].mean()"
   ]
  },
  {
   "cell_type": "code",
   "execution_count": 24,
   "id": "d4bf42fb",
   "metadata": {},
   "outputs": [
    {
     "data": {
      "text/plain": [
       "<AxesSubplot:>"
      ]
     },
     "execution_count": 24,
     "metadata": {},
     "output_type": "execute_result"
    },
    {
     "data": {
      "image/png": "[encoded data removed]",
      "text/plain": [
       "<Figure size 720x288 with 1 Axes>"
      ]
     },
     "metadata": {
      "needs_background": "light"
     },
     "output_type": "display_data"
    }
   ],
   "source": [
    "data_students[\"grade\"].hist(figsize=(10,4))"
   ]
  },
  {
   "cell_type": "code",
   "execution_count": 25,
   "id": "1f3eb672",
   "metadata": {},
   "outputs": [
    {
     "data": {
      "text/plain": [
       "<AxesSubplot:>"
      ]
     },
     "execution_count": 25,
     "metadata": {},
     "output_type": "execute_result"
    },
    {
     "data": {
      "image/png": "[encoded data removed]",
      "text/plain": [
       "<Figure size 432x288 with 1 Axes>"
      ]
     },
     "metadata": {
      "needs_background": "light"
     },
     "output_type": "display_data"
    }
   ],
   "source": [
    "data_students[\"reading_score\"].hist()"
   ]
  },
  {
   "cell_type": "code",
   "execution_count": 26,
   "id": "eb6d3c44",
   "metadata": {},
   "outputs": [
    {
     "data": {
      "text/plain": [
       "<AxesSubplot:>"
      ]
     },
     "execution_count": 26,
     "metadata": {},
     "output_type": "execute_result"
    },
    {
     "data": {
      "image/png": "[encoded data removed]",
      "text/plain": [
       "<Figure size 432x288 with 1 Axes>"
      ]
     },
     "metadata": {
      "needs_background": "light"
     },
     "output_type": "display_data"
    }
   ],
   "source": [
    "data_students[\"math_score\"].hist()"
   ]
  },
  {
   "cell_type": "markdown",
   "id": "8eb665ee",
   "metadata": {},
   "source": [
    "## Guardar el min. del mat y reading"
   ]
  },
  {
   "cell_type": "markdown",
   "id": "9f1879b8",
   "metadata": {},
   "source": [
    "### Filtrar Alumnos con mayor y menor puntaje en ambas"
   ]
  },
  {
   "cell_type": "markdown",
   "id": "fc3c1bf3",
   "metadata": {},
   "source": [
    "Filtrar Alumnos con mayor y menor puntaje en ambas y guardar como math_max y math_min"
   ]
  },
  {
   "cell_type": "code",
   "execution_count": null,
   "id": "452f3e1c",
   "metadata": {},
   "outputs": [],
   "source": [
    "Filtrar Alumnos con mayor y menor puntaje en ambas y guardar como read_max y read_min"
   ]
  },
  {
   "cell_type": "code",
   "execution_count": 31,
   "id": "b280e080",
   "metadata": {},
   "outputs": [],
   "source": [
    "math_max= data_students [\"math_score\"].max()"
   ]
  },
  {
   "cell_type": "code",
   "execution_count": 32,
   "id": "f44d4dd5",
   "metadata": {},
   "outputs": [
    {
     "data": {
      "text/plain": [
       "99"
      ]
     },
     "execution_count": 32,
     "metadata": {},
     "output_type": "execute_result"
    }
   ],
   "source": [
    "math_max"
   ]
  },
  {
   "cell_type": "code",
   "execution_count": 33,
   "id": "eac3afe8",
   "metadata": {},
   "outputs": [],
   "source": [
    "menor_puntuacion_math=data_students[data_students[\"math_score\"]==data_students[\"math_score\"].min()]"
   ]
  },
  {
   "cell_type": "code",
   "execution_count": 34,
   "id": "10bc965f",
   "metadata": {},
   "outputs": [
    {
     "data": {
      "text/html": [
       "<div>\n",
       "<style scoped>\n",
       "    .dataframe tbody tr th:only-of-type {\n",
       "        vertical-align: middle;\n",
       "    }\n",
       "\n",
       "    .dataframe tbody tr th {\n",
       "        vertical-align: top;\n",
       "    }\n",
       "\n",
       "    .dataframe thead th {\n",
       "        text-align: right;\n",
       "    }\n",
       "</style>\n",
       "<table border=\"1\" class=\"dataframe\">\n",
       "  <thead>\n",
       "    <tr style=\"text-align: right;\">\n",
       "      <th></th>\n",
       "      <th>Unnamed: 0</th>\n",
       "      <th>Student ID</th>\n",
       "      <th>student_name</th>\n",
       "      <th>gender</th>\n",
       "      <th>grade</th>\n",
       "      <th>school_name</th>\n",
       "      <th>reading_score</th>\n",
       "      <th>math_score</th>\n",
       "    </tr>\n",
       "  </thead>\n",
       "  <tbody>\n",
       "    <tr>\n",
       "      <th>16</th>\n",
       "      <td>16</td>\n",
       "      <td>16</td>\n",
       "      <td>Donald Zamora</td>\n",
       "      <td>M</td>\n",
       "      <td>9th</td>\n",
       "      <td>Huang High School</td>\n",
       "      <td>88</td>\n",
       "      <td>55</td>\n",
       "    </tr>\n",
       "    <tr>\n",
       "      <th>28</th>\n",
       "      <td>28</td>\n",
       "      <td>28</td>\n",
       "      <td>Kelly James</td>\n",
       "      <td>F</td>\n",
       "      <td>11th</td>\n",
       "      <td>Huang High School</td>\n",
       "      <td>73</td>\n",
       "      <td>55</td>\n",
       "    </tr>\n",
       "    <tr>\n",
       "      <th>182</th>\n",
       "      <td>182</td>\n",
       "      <td>182</td>\n",
       "      <td>Kari Miller</td>\n",
       "      <td>F</td>\n",
       "      <td>9th</td>\n",
       "      <td>Huang High School</td>\n",
       "      <td>88</td>\n",
       "      <td>55</td>\n",
       "    </tr>\n",
       "    <tr>\n",
       "      <th>198</th>\n",
       "      <td>198</td>\n",
       "      <td>198</td>\n",
       "      <td>Christopher Phillips</td>\n",
       "      <td>M</td>\n",
       "      <td>9th</td>\n",
       "      <td>Huang High School</td>\n",
       "      <td>86</td>\n",
       "      <td>55</td>\n",
       "    </tr>\n",
       "    <tr>\n",
       "      <th>232</th>\n",
       "      <td>232</td>\n",
       "      <td>232</td>\n",
       "      <td>Aimee Johnson</td>\n",
       "      <td>F</td>\n",
       "      <td>9th</td>\n",
       "      <td>Huang High School</td>\n",
       "      <td>97</td>\n",
       "      <td>55</td>\n",
       "    </tr>\n",
       "    <tr>\n",
       "      <th>...</th>\n",
       "      <td>...</td>\n",
       "      <td>...</td>\n",
       "      <td>...</td>\n",
       "      <td>...</td>\n",
       "      <td>...</td>\n",
       "      <td>...</td>\n",
       "      <td>...</td>\n",
       "      <td>...</td>\n",
       "    </tr>\n",
       "    <tr>\n",
       "      <th>37361</th>\n",
       "      <td>37361</td>\n",
       "      <td>37361</td>\n",
       "      <td>Amanda Harris</td>\n",
       "      <td>F</td>\n",
       "      <td>9th</td>\n",
       "      <td>Ford High School</td>\n",
       "      <td>63</td>\n",
       "      <td>55</td>\n",
       "    </tr>\n",
       "    <tr>\n",
       "      <th>37370</th>\n",
       "      <td>37370</td>\n",
       "      <td>37370</td>\n",
       "      <td>Katherine Davis</td>\n",
       "      <td>F</td>\n",
       "      <td>10th</td>\n",
       "      <td>Ford High School</td>\n",
       "      <td>96</td>\n",
       "      <td>55</td>\n",
       "    </tr>\n",
       "    <tr>\n",
       "      <th>37373</th>\n",
       "      <td>37373</td>\n",
       "      <td>37373</td>\n",
       "      <td>Michelle York</td>\n",
       "      <td>F</td>\n",
       "      <td>11th</td>\n",
       "      <td>Ford High School</td>\n",
       "      <td>80</td>\n",
       "      <td>55</td>\n",
       "    </tr>\n",
       "    <tr>\n",
       "      <th>37374</th>\n",
       "      <td>37374</td>\n",
       "      <td>37374</td>\n",
       "      <td>Nicole Kidd</td>\n",
       "      <td>F</td>\n",
       "      <td>10th</td>\n",
       "      <td>Ford High School</td>\n",
       "      <td>63</td>\n",
       "      <td>55</td>\n",
       "    </tr>\n",
       "    <tr>\n",
       "      <th>37428</th>\n",
       "      <td>37428</td>\n",
       "      <td>37428</td>\n",
       "      <td>Teresa Williams</td>\n",
       "      <td>F</td>\n",
       "      <td>11th</td>\n",
       "      <td>Ford High School</td>\n",
       "      <td>68</td>\n",
       "      <td>55</td>\n",
       "    </tr>\n",
       "  </tbody>\n",
       "</table>\n",
       "<p>574 rows × 8 columns</p>\n",
       "</div>"
      ],
      "text/plain": [
       "       Unnamed: 0  Student ID          student_name gender grade  \\\n",
       "16             16          16         Donald Zamora      M   9th   \n",
       "28             28          28           Kelly James      F  11th   \n",
       "182           182         182           Kari Miller      F   9th   \n",
       "198           198         198  Christopher Phillips      M   9th   \n",
       "232           232         232         Aimee Johnson      F   9th   \n",
       "...           ...         ...                   ...    ...   ...   \n",
       "37361       37361       37361         Amanda Harris      F   9th   \n",
       "37370       37370       37370       Katherine Davis      F  10th   \n",
       "37373       37373       37373         Michelle York      F  11th   \n",
       "37374       37374       37374           Nicole Kidd      F  10th   \n",
       "37428       37428       37428       Teresa Williams      F  11th   \n",
       "\n",
       "             school_name  reading_score  math_score  \n",
       "16     Huang High School             88          55  \n",
       "28     Huang High School             73          55  \n",
       "182    Huang High School             88          55  \n",
       "198    Huang High School             86          55  \n",
       "232    Huang High School             97          55  \n",
       "...                  ...            ...         ...  \n",
       "37361   Ford High School             63          55  \n",
       "37370   Ford High School             96          55  \n",
       "37373   Ford High School             80          55  \n",
       "37374   Ford High School             63          55  \n",
       "37428   Ford High School             68          55  \n",
       "\n",
       "[574 rows x 8 columns]"
      ]
     },
     "execution_count": 34,
     "metadata": {},
     "output_type": "execute_result"
    }
   ],
   "source": [
    "menor_puntuacion_math"
   ]
  },
  {
   "cell_type": "code",
   "execution_count": null,
   "id": "a0911d34",
   "metadata": {},
   "outputs": [],
   "source": []
  }
 ],
 "metadata": {
  "kernelspec": {
   "display_name": "Python 3 (ipykernel)",
   "language": "python",
   "name": "python3"
  },
  "language_info": {
   "codemirror_mode": {
    "name": "ipython",
    "version": 3
   },
   "file_extension": ".py",
   "mimetype": "text/x-python",
   "name": "python",
   "nbconvert_exporter": "python",
   "pygments_lexer": "ipython3",
   "version": "3.9.12"
  }
 },
 "nbformat": 4,
 "nbformat_minor": 5
}
